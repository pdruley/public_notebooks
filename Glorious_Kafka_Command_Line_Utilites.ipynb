{
 "cells": [
  {
   "cell_type": "markdown",
   "metadata": {},
   "source": [
    "# Introduction\n",
    "Everyone who loves command line utilites will love this demo. And those that don't probably shouldn't be here."
   ]
  },
  {
   "cell_type": "markdown",
   "metadata": {},
   "source": [
    "## Fire up the cluster!!!!!!"
   ]
  },
  {
   "cell_type": "markdown",
   "metadata": {},
   "source": [
    "### Start Zookeeper First."
   ]
  },
  {
   "cell_type": "code",
   "execution_count": 1,
   "metadata": {},
   "outputs": [],
   "source": [
    "zookeeper-server-start -daemon /Users/patrick/Documents/CP_Software/confluent-5.2.1/etc/kafka/zookeeper.properties"
   ]
  },
  {
   "cell_type": "markdown",
   "metadata": {},
   "source": [
    "### Start some Kafka Brokers next."
   ]
  },
  {
   "cell_type": "code",
   "execution_count": 2,
   "metadata": {},
   "outputs": [],
   "source": [
    "kafka-server-start -daemon /Users/patrick/Documents/CP_Software/confluent-5.2.1/etc/kafka/server1.properties\n",
    "kafka-server-start -daemon /Users/patrick/Documents/CP_Software/confluent-5.2.1/etc/kafka/server2.properties\n",
    "kafka-server-start -daemon /Users/patrick/Documents/CP_Software/confluent-5.2.1/etc/kafka/server3.properties"
   ]
  },
  {
   "cell_type": "markdown",
   "metadata": {},
   "source": [
    "### Are we running?"
   ]
  },
  {
   "cell_type": "code",
   "execution_count": 3,
   "metadata": {},
   "outputs": [
    {
     "name": "stdout",
     "output_type": "stream",
     "text": [
      "5383 QuorumPeerMain\n",
      "5432 SupportedKafka\n",
      "5433 Jps\n",
      "5418 SupportedKafka\n",
      "5403 SupportedKafka\n"
     ]
    }
   ],
   "source": [
    "jps"
   ]
  },
  {
   "cell_type": "markdown",
   "metadata": {},
   "source": [
    "### Let's create a topic!"
   ]
  },
  {
   "cell_type": "code",
   "execution_count": 4,
   "metadata": {},
   "outputs": [],
   "source": [
    "kafka-topics --bootstrap-server localhost:9092 --create --topic users \\\n",
    "    --replication-factor 3 \\\n",
    "    --partitions 3 \\\n",
    "    --config min.insync.replicas=2"
   ]
  },
  {
   "cell_type": "markdown",
   "metadata": {},
   "source": [
    "### What topics are available?"
   ]
  },
  {
   "cell_type": "code",
   "execution_count": 5,
   "metadata": {},
   "outputs": [
    {
     "name": "stdout",
     "output_type": "stream",
     "text": [
      "users\n"
     ]
    }
   ],
   "source": [
    "kafka-topics --bootstrap-server localhost:9092 --list"
   ]
  },
  {
   "cell_type": "markdown",
   "metadata": {},
   "source": [
    "### How is that topic defined?"
   ]
  },
  {
   "cell_type": "code",
   "execution_count": 6,
   "metadata": {},
   "outputs": [
    {
     "name": "stdout",
     "output_type": "stream",
     "text": [
      "Topic:users\tPartitionCount:3\tReplicationFactor:3\tConfigs:min.insync.replicas=2,segment.bytes=1073741824\n",
      "\tTopic: users\tPartition: 0\tLeader: 1\tReplicas: 1,2,3\tIsr: 1,2,3\n",
      "\tTopic: users\tPartition: 1\tLeader: 2\tReplicas: 2,3,1\tIsr: 2,3,1\n",
      "\tTopic: users\tPartition: 2\tLeader: 3\tReplicas: 3,1,2\tIsr: 3,1,2\n"
     ]
    }
   ],
   "source": [
    "kafka-topics --bootstrap-server localhost:9092 --topic users --describe"
   ]
  },
  {
   "cell_type": "markdown",
   "metadata": {},
   "source": [
    "### What's in that topic?"
   ]
  },
  {
   "cell_type": "code",
   "execution_count": 9,
   "metadata": {},
   "outputs": [
    {
     "name": "stdout",
     "output_type": "stream",
     "text": [
      "{\"registertime\":1511299256550,\"userid\":\"User_2\",\"regionid\":\"Region_1\",\"gender\":\"MALE\"}\n",
      "{\"registertime\":1505122567712,\"userid\":\"User_5\",\"regionid\":\"Region_1\",\"gender\":\"MALE\"}\n",
      "{\"registertime\":1489777293550,\"userid\":\"User_3\",\"regionid\":\"Region_2\",\"gender\":\"FEMALE\"}\n",
      "{\"registertime\":1500726224175,\"userid\":\"User_3\",\"regionid\":\"Region_5\",\"gender\":\"OTHER\"}\n",
      "{\"registertime\":1516967717491,\"userid\":\"User_7\",\"regionid\":\"Region_6\",\"gender\":\"OTHER\"}\n",
      "Processed a total of 5 messages\n"
     ]
    }
   ],
   "source": [
    "kafka-console-consumer --bootstrap-server localhost:9092 --topic users --from-beginning"
   ]
  },
  {
   "cell_type": "markdown",
   "metadata": {},
   "source": [
    "### How do we put messages in that topic?"
   ]
  },
  {
   "cell_type": "code",
   "execution_count": 8,
   "metadata": {},
   "outputs": [
    {
     "name": "stdout",
     "output_type": "stream",
     "text": [
      "[2019-04-17 18:38:53,757] INFO AvroDataConfig values: \n",
      "\tschemas.cache.config = 1\n",
      "\tenhanced.avro.schema.support = false\n",
      "\tconnect.meta.data = true\n",
      " (io.confluent.connect.avro.AvroDataConfig:179)\n",
      "User_5 --> ([ 1505122567712 | 'User_5' | 'Region_1' | 'MALE' ]) ts:1555540734136\n",
      "User_3 --> ([ 1489777293550 | 'User_3' | 'Region_2' | 'FEMALE' ]) ts:1555540734168\n",
      "User_2 --> ([ 1511299256550 | 'User_2' | 'Region_1' | 'MALE' ]) ts:1555540734520\n",
      "User_3 --> ([ 1500726224175 | 'User_3' | 'Region_5' | 'OTHER' ]) ts:1555540734687\n",
      "User_7 --> ([ 1516967717491 | 'User_7' | 'Region_6' | 'OTHER' ]) ts:1555540735127\n"
     ]
    }
   ],
   "source": [
    "ksql-datagen quickstart=users topic=users iterations=5 format=json"
   ]
  },
  {
   "cell_type": "markdown",
   "metadata": {},
   "source": [
    "### Is there anything else I can use?"
   ]
  },
  {
   "cell_type": "code",
   "execution_count": 11,
   "metadata": {},
   "outputs": [
    {
     "name": "stdout",
     "output_type": "stream",
     "text": [
      "Metadata for users (from broker -1: localhost:9092/bootstrap):\n",
      " 3 brokers:\n",
      "  broker 2 at 127.0.0.1:9093\n",
      "  broker 3 at 127.0.0.1:9094 (controller)\n",
      "  broker 1 at 127.0.0.1:9092\n",
      " 1 topics:\n",
      "  topic \"users\" with 3 partitions:\n",
      "    partition 0, leader 1, replicas: 1,2,3, isrs: 1,2,3\n",
      "    partition 1, leader 2, replicas: 2,3,1, isrs: 2,3,1\n",
      "    partition 2, leader 3, replicas: 3,1,2, isrs: 3,1,2\n"
     ]
    }
   ],
   "source": [
    "kafkacat -L -b localhost:9092 -t users"
   ]
  },
  {
   "cell_type": "markdown",
   "metadata": {},
   "source": [
    "### What about performance testing?"
   ]
  },
  {
   "cell_type": "code",
   "execution_count": 10,
   "metadata": {},
   "outputs": [],
   "source": [
    "kafka-topics --bootstrap-server localhost:9092 --create --topic perf-test \\\n",
    "    --replication-factor 3 \\\n",
    "    --partitions 3 \\\n",
    "    --config min.insync.replicas=2"
   ]
  },
  {
   "cell_type": "code",
   "execution_count": 12,
   "metadata": {},
   "outputs": [
    {
     "name": "stdout",
     "output_type": "stream",
     "text": [
      "70741 records sent, 14136.9 records/sec (20.22 MB/sec), 1107.1 ms avg latency, 1735.0 ms max latency.\n",
      "90890 records sent, 18170.7 records/sec (25.99 MB/sec), 1086.2 ms avg latency, 1788.0 ms max latency.\n",
      "87370 records sent, 17474.0 records/sec (25.00 MB/sec), 1182.6 ms avg latency, 2016.0 ms max latency.\n",
      "139960 records sent, 27992.0 records/sec (40.04 MB/sec), 798.9 ms avg latency, 1864.0 ms max latency.\n",
      "271660 records sent, 54332.0 records/sec (77.72 MB/sec), 380.9 ms avg latency, 868.0 ms max latency.\n",
      "263460 records sent, 52692.0 records/sec (75.38 MB/sec), 389.0 ms avg latency, 753.0 ms max latency.\n",
      "241962 records sent, 48392.4 records/sec (69.23 MB/sec), 419.6 ms avg latency, 708.0 ms max latency.\n"
     ]
    }
   ],
   "source": [
    "kafka-producer-perf-test --topic perf-test \\\n",
    "    --producer-props bootstrap.servers=localhost:9092 \\\n",
    "    --num-records 9999999 \\\n",
    "    --throughput -1 \\\n",
    "    --record-size 1500"
   ]
  },
  {
   "cell_type": "markdown",
   "metadata": {},
   "source": [
    "### Ok, that wasn't bad but can we do better?"
   ]
  },
  {
   "cell_type": "code",
   "execution_count": 13,
   "metadata": {},
   "outputs": [
    {
     "name": "stdout",
     "output_type": "stream",
     "text": [
      "478600 records sent, 95700.9 records/sec (136.90 MB/sec), 205.5 ms avg latency, 426.0 ms max latency.\n",
      "628397 records sent, 125679.4 records/sec (179.79 MB/sec), 170.4 ms avg latency, 341.0 ms max latency.\n",
      "731313 records sent, 146204.1 records/sec (209.15 MB/sec), 149.5 ms avg latency, 295.0 ms max latency.\n",
      "753489 records sent, 150697.8 records/sec (215.57 MB/sec), 145.3 ms avg latency, 277.0 ms max latency.\n",
      "752667 records sent, 150533.4 records/sec (215.34 MB/sec), 145.6 ms avg latency, 268.0 ms max latency.\n",
      "757251 records sent, 151450.2 records/sec (216.65 MB/sec), 143.9 ms avg latency, 264.0 ms max latency.\n",
      "733979 records sent, 146766.4 records/sec (209.95 MB/sec), 149.2 ms avg latency, 307.0 ms max latency.\n",
      "747942 records sent, 149409.1 records/sec (213.73 MB/sec), 145.9 ms avg latency, 268.0 ms max latency.\n",
      "747973 records sent, 149564.7 records/sec (213.95 MB/sec), 146.5 ms avg latency, 264.0 ms max latency.\n",
      "765476 records sent, 153095.2 records/sec (219.00 MB/sec), 142.8 ms avg latency, 249.0 ms max latency.\n",
      "756112 records sent, 151222.4 records/sec (216.33 MB/sec), 144.5 ms avg latency, 263.0 ms max latency.\n",
      "749881 records sent, 149946.2 records/sec (214.50 MB/sec), 145.6 ms avg latency, 266.0 ms max latency.\n",
      "741070 records sent, 148154.7 records/sec (211.94 MB/sec), 147.6 ms avg latency, 344.0 ms max latency.\n",
      "9999999 records sent, 143915.938692 records/sec (205.87 MB/sec), 150.59 ms avg latency, 426.00 ms max latency, 189 ms 50th, 261 ms 95th, 298 ms 99th, 388 ms 99.9th.\n"
     ]
    }
   ],
   "source": [
    "kafka-producer-perf-test --topic perf-test \\\n",
    "    --producer-props bootstrap.servers=localhost:9092 batch.size=150000 \\\n",
    "    --num-records 9999999 \\\n",
    "    --throughput -1 \\\n",
    "    --record-size 1500"
   ]
  },
  {
   "cell_type": "markdown",
   "metadata": {},
   "source": [
    "### Let's blow the roof off of this thing!"
   ]
  },
  {
   "cell_type": "code",
   "execution_count": 14,
   "metadata": {},
   "outputs": [
    {
     "name": "stdout",
     "output_type": "stream",
     "text": [
      "1641684 records sent, 328205.5 records/sec (469.50 MB/sec), 6.8 ms avg latency, 261.0 ms max latency.\n",
      "2351824 records sent, 470270.7 records/sec (672.73 MB/sec), 5.0 ms avg latency, 36.0 ms max latency.\n",
      "2376335 records sent, 475172.0 records/sec (679.74 MB/sec), 3.2 ms avg latency, 20.0 ms max latency.\n",
      "2360036 records sent, 472007.2 records/sec (675.21 MB/sec), 3.1 ms avg latency, 16.0 ms max latency.\n",
      "9999999 records sent, 439637.694540 records/sec (628.91 MB/sec), 4.30 ms avg latency, 261.00 ms max latency, 3 ms 50th, 11 ms 95th, 21 ms 99th, 36 ms 99.9th.\n"
     ]
    }
   ],
   "source": [
    "kafka-producer-perf-test --topic perf-test \\\n",
    "    --producer-props bootstrap.servers=localhost:9092 batch.size=150000 compression.type=lz4 \\\n",
    "    --num-records 9999999 \\\n",
    "    --throughput -1 \\\n",
    "    --record-size 1500"
   ]
  },
  {
   "cell_type": "markdown",
   "metadata": {},
   "source": [
    "### Clean up this mess."
   ]
  },
  {
   "cell_type": "code",
   "execution_count": 15,
   "metadata": {},
   "outputs": [],
   "source": [
    "kafka-server-stop"
   ]
  },
  {
   "cell_type": "code",
   "execution_count": 16,
   "metadata": {},
   "outputs": [],
   "source": [
    "zookeeper-server-stop"
   ]
  },
  {
   "cell_type": "code",
   "execution_count": null,
   "metadata": {},
   "outputs": [],
   "source": []
  }
 ],
 "metadata": {
  "kernelspec": {
   "display_name": "Bash",
   "language": "bash",
   "name": "bash"
  },
  "language_info": {
   "codemirror_mode": "shell",
   "file_extension": ".sh",
   "mimetype": "text/x-sh",
   "name": "bash"
  }
 },
 "nbformat": 4,
 "nbformat_minor": 2
}
